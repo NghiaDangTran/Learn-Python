{
 "cells": [
  {
   "cell_type": "markdown",
   "metadata": {
    "deletable": false,
    "editable": false,
    "nbgrader": {
     "checksum": "48770f8b5f5d3062d3badd51fcafc401",
     "grade": false,
     "grade_id": "cell-a6c4f74309fc2379",
     "locked": true,
     "schema_version": 1,
     "solution": false
    }
   },
   "source": [
    "# Assignment 4\n",
    "## Description\n",
    "In this assignment you must read in a file of metropolitan regions and associated sports teams from [assets/wikipedia_data.html](assets/wikipedia_data.html) and answer some questions about each metropolitan region. Each of these regions may have one or more teams from the \"Big 4\": NFL (football, in [assets/nfl.csv](assets/nfl.csv)), MLB (baseball, in [assets/mlb.csv](assets/mlb.csv)), NBA (basketball, in [assets/nba.csv](assets/nba.csv) or NHL (hockey, in [assets/nhl.csv](assets/nhl.csv)). Please keep in mind that all questions are from the perspective of the metropolitan region, and that this file is the \"source of authority\" for the location of a given sports team. Thus teams which are commonly known by a different area (e.g. \"Oakland Raiders\") need to be mapped into the metropolitan region given (e.g. San Francisco Bay Area). This will require some human data understanding outside of the data you've been given (e.g. you will have to hand-code some names, and might need to google to find out where teams are)!\n",
    "\n",
    "For each sport I would like you to answer the question: **what is the win/loss ratio's correlation with the population of the city it is in?** Win/Loss ratio refers to the number of wins over the number of wins plus the number of losses. Remember that to calculate the correlation with [`pearsonr`](https://docs.scipy.org/doc/scipy/reference/generated/scipy.stats.pearsonr.html), so you are going to send in two ordered lists of values, the populations from the wikipedia_data.html file and the win/loss ratio for a given sport in the same order. Average the win/loss ratios for those cities which have multiple teams of a single sport. Each sport is worth an equal amount in this assignment (20%\\*4=80%) of the grade for this assignment. You should only use data **from year 2018** for your analysis -- this is important!\n",
    "\n",
    "## Notes\n",
    "\n",
    "1. Do not include data about the MLS or CFL in any of the work you are doing, we're only interested in the Big 4 in this assignment.\n",
    "2. I highly suggest that you first tackle the four correlation questions in order, as they are all similar and worth the majority of grades for this assignment. This is by design!\n",
    "3. It's fair game to talk with peers about high level strategy as well as the relationship between metropolitan areas and sports teams. However, do not post code solving aspects of the assignment (including such as dictionaries mapping areas to teams, or regexes which will clean up names).\n",
    "4. There may be more teams than the assert statements test, remember to collapse multiple teams in one city into a single value!"
   ]
  },
  {
   "cell_type": "markdown",
   "metadata": {
    "deletable": false,
    "editable": false,
    "nbgrader": {
     "checksum": "369ff9ecf0ee04640574205cbc697f94",
     "grade": false,
     "grade_id": "cell-712b2b5da63d4505",
     "locked": true,
     "schema_version": 1,
     "solution": false
    }
   },
   "source": [
    "## Question 1\n",
    "For this question, calculate the win/loss ratio's correlation with the population of the city it is in for the **NHL** using **2018** data."
   ]
  },
  {
   "cell_type": "code",
   "execution_count": 1,
   "metadata": {
    "deletable": false,
    "nbgrader": {
     "checksum": "1cac4803b02502929f5b1612d48db2b5",
     "grade": false,
     "grade_id": "cell-69b16e4386e58030",
     "locked": false,
     "schema_version": 1,
     "solution": true
    },
    "scrolled": false
   },
   "outputs": [
    {
     "name": "stdout",
     "output_type": "stream",
     "text": [
      "[20153634, 13310447, 6657982, 9512999, 7233323, 6131977, 6070500, 4794447, 3551036, 2853077, 6066387, 4661537, 4297617, 5928040, 3032171, 2342299, 2807002, 1865298, 1132804, 4098927, 2463431, 2041520, 1392609, 1323783, 1321426, 778489, 2155664, 1302946]\n",
      "[0.518348623853211, 0.6223776223776224, 0.625, 0.4583333333333333, 0.5675675675675675, 0.6533333333333333, 0.6176470588235294, 0.7142857142857143, 0.6338028169014085, 0.589041095890411, 0.5945945945945946, 0.4142857142857143, 0.43478260869565216, 0.6533333333333333, 0.7012987012987013, 0.618421052631579, 0.5789473684210527, 0.7464788732394366, 0.35714285714285715, 0.42028985507246375, 0.43661971830985913, 0.6, 0.5138888888888888, 0.39436619718309857, 0.47368421052631576, 0.7222222222222222, 0.68, 0.5070422535211268]\n"
     ]
    },
    {
     "data": {
      "text/plain": [
       "0.012308996455744285"
      ]
     },
     "execution_count": 1,
     "metadata": {},
     "output_type": "execute_result"
    }
   ],
   "source": [
    "import pandas as pd\n",
    "import numpy as np\n",
    "import scipy.stats as stats\n",
    "import re\n",
    "from re import search\n",
    "\n",
    "nhl_df=pd.read_csv(\"assets/nhl.csv\")\n",
    "cities=pd.read_html(\"assets/wikipedia_data.html\")[1]\n",
    "cities=cities.iloc[:-1,[0,3,5,6,7,8]]\n",
    "\n",
    "def nhl_correlation(): \n",
    "    # YOUR CODE HERE\n",
    "#     raise NotImplementedError()\n",
    "    \n",
    "    population_by_region = []\n",
    "    win_loss_by_region = []\n",
    "    all_team_one_region=[]\n",
    "    win_lose=[]\n",
    "    for i in range(len(cities)):\n",
    "        if cities[\"NHL\"][i]!=\"—\" and cities[\"NHL\"][i][0]!=\"[\":\n",
    "            temp=[]\n",
    "            split_data=[0]\n",
    "            data=cities[\"NHL\"][i]\n",
    "            for j in range(len(data)):\n",
    "                if data[j]==\"[\":\n",
    "                    split_data.append(j)\n",
    "                    break;\n",
    "                if j==len(data)-1:\n",
    "                       split_data.append(j+1)\n",
    "                if j!=0 and data[j].isupper() and data[j-1].islower():\n",
    "                       split_data.append(j)\n",
    "            for k in range(len(split_data)-1):\n",
    "                   \n",
    "                temp.append(data[split_data[k]:split_data[k+1]])\n",
    "            all_team_one_region.append((temp))\n",
    "            population_by_region.append(int(cities[\"Population (2016 est.)[8]\"][i])) \n",
    "   \n",
    "    nhl_df_2018=nhl_df[nhl_df[\"year\"]==2018]\n",
    "   \n",
    "    nhl_df\n",
    "    for i in range(len(all_team_one_region)):\n",
    "        win=0\n",
    "        lose=0\n",
    "        at=0\n",
    "        for j in range (len(all_team_one_region[i])):\n",
    "            for k in range(len(nhl_df_2018)):\n",
    "                if search(all_team_one_region[i][j],  nhl_df[\"team\"][k]):\n",
    "                    at=k\n",
    "                    break\n",
    "                \n",
    "            win+=int(nhl_df_2018[\"W\"][at])\n",
    "            lose+=int(nhl_df_2018[\"L\"][at])\n",
    "        win_lose.append(win)\n",
    "        win_lose.append(lose)\n",
    "    \n",
    "            \n",
    "    for i in range(0, len(win_lose), 2):    \n",
    "         win_loss_by_region.append(win_lose[i]/(win_lose[i]+win_lose[i+1]))\n",
    "        \n",
    "    len(  win_loss_by_region)\n",
    "\n",
    "    assert len(population_by_region) == len(win_loss_by_region), \"Q1: Your lists must be the same length\"\n",
    "    assert len(population_by_region) == 28, \"Q1: There should be 28 teams being analysed for NHL\"\n",
    "    print(population_by_region)\n",
    "    print(win_loss_by_region)\n",
    "    stats.pearsonr(population_by_region, win_loss_by_region)\n",
    "    return stats.pearsonr(population_by_region, win_loss_by_region)[0]\n",
    "nhl_correlation()\n"
   ]
  },
  {
   "cell_type": "code",
   "execution_count": null,
   "metadata": {
    "deletable": false,
    "editable": false,
    "nbgrader": {
     "checksum": "52a581df513c71153e105b93764cda4b",
     "grade": true,
     "grade_id": "cell-ebe0b2dfe1067e63",
     "locked": true,
     "points": 20,
     "schema_version": 1,
     "solution": false
    }
   },
   "outputs": [],
   "source": []
  },
  {
   "cell_type": "code",
   "execution_count": 2,
   "metadata": {},
   "outputs": [
    {
     "name": "stdout",
     "output_type": "stream",
     "text": [
      "[['Knicks', 'Nets'], ['Lakers', 'Clippers'], ['Warriors'], ['Bulls'], ['Mavericks'], ['Wizards'], ['76ers'], ['Celtics'], ['Timberwolves'], ['Nuggets'], ['Heat'], ['Suns'], ['Pistons'], ['Raptors'], ['Rockets'], ['Hawks'], ['Cavaliers'], ['Hornets'], ['Pacers'], ['Bucks'], ['Pelicans'], ['Magic'], ['Trail Blazers'], ['Jazz'], ['Spurs'], ['Kings'], ['Thunder'], ['Grizzlies']]\n"
     ]
    },
    {
     "data": {
      "text/plain": [
       "-0.1765716025284462"
      ]
     },
     "execution_count": 2,
     "metadata": {},
     "output_type": "execute_result"
    }
   ],
   "source": [
    "nba_df=pd.read_csv(\"assets/nba.csv\")\n",
    "cities=pd.read_html(\"assets/wikipedia_data.html\")[1]\n",
    "cities=cities.iloc[:-1,[0,3,5,6,7,8]]\n",
    "def correlation(name,nhl_df): \n",
    "    # YOUR CODE HERE\n",
    "#     raise NotImplementedError()\n",
    "    \n",
    "    population_by_region = []\n",
    "    win_loss_by_region = []\n",
    "    all_team_one_region=[]\n",
    "    win_lose=[]\n",
    "    for i in range(len(cities)):\n",
    "        if cities[name][i]!=\"—\" and cities[name][i][0]!=\"[\":\n",
    "            temp=[]\n",
    "            split_data=[0]\n",
    "            data=cities[name][i]\n",
    "            for j in range(len(data)):\n",
    "                if data[j]==\"[\":\n",
    "                    split_data.append(j)\n",
    "                    break;\n",
    "                if j==len(data)-1:\n",
    "                       split_data.append(j+1)\n",
    "                if j!=0 and data[j].isupper() and data[j-1].islower():\n",
    "                       split_data.append(j)\n",
    "            for k in range(len(split_data)-1):\n",
    "                   \n",
    "                temp.append(data[split_data[k]:split_data[k+1]])\n",
    "            all_team_one_region.append((temp))\n",
    "            population_by_region.append(int(cities[\"Population (2016 est.)[8]\"][i])) \n",
    "   \n",
    "    nhl_df_2018=nhl_df[nhl_df[\"year\"]==2018]\n",
    "    print(all_team_one_region)\n",
    "   \n",
    "    \n",
    "    for i in range(len(all_team_one_region)):\n",
    "        win=0\n",
    "        lose=0\n",
    "        at=0\n",
    "        for j in range (len(all_team_one_region[i])):\n",
    "            for k in range(len(nhl_df_2018)):\n",
    "                if search(all_team_one_region[i][j],  nhl_df[\"team\"][k]):\n",
    "                    at=k\n",
    "                    break\n",
    "                \n",
    "            win+=int(nhl_df_2018[\"W\"][at])\n",
    "            lose+=int(nhl_df_2018[\"L\"][at])\n",
    "        win_lose.append(win)\n",
    "        win_lose.append(lose)\n",
    "    \n",
    "            \n",
    "    for i in range(0, len(win_lose), 2):    \n",
    "         win_loss_by_region.append(win_lose[i]/(win_lose[i]+win_lose[i+1]))\n",
    "        \n",
    "    len(  win_loss_by_region)\n",
    "\n",
    "  \n",
    "    stats.pearsonr(population_by_region, win_loss_by_region)\n",
    "    return stats.pearsonr(population_by_region, win_loss_by_region)[0]\n",
    "correlation(\"NBA\",nba_df)"
   ]
  },
  {
   "cell_type": "markdown",
   "metadata": {
    "deletable": false,
    "editable": false,
    "nbgrader": {
     "checksum": "988912cae4968d81473f46d783e79c16",
     "grade": false,
     "grade_id": "cell-cb964e690298b71d",
     "locked": true,
     "schema_version": 1,
     "solution": false
    }
   },
   "source": [
    "## Question 2\n",
    "For this question, calculate the win/loss ratio's correlation with the population of the city it is in for the **NBA** using **2018** data."
   ]
  },
  {
   "cell_type": "code",
   "execution_count": 3,
   "metadata": {
    "deletable": false,
    "nbgrader": {
     "checksum": "9394222aafc8ccab0a228098ba0d6010",
     "grade": false,
     "grade_id": "cell-5a5f21279e3d3572",
     "locked": false,
     "schema_version": 1,
     "solution": true
    }
   },
   "outputs": [
    {
     "name": "stdout",
     "output_type": "stream",
     "text": [
      "[['Knicks', 'Nets'], ['Lakers', 'Clippers'], ['Warriors'], ['Bulls'], ['Mavericks'], ['Wizards'], ['76ers'], ['Celtics'], ['Timberwolves'], ['Nuggets'], ['Heat'], ['Suns'], ['Pistons'], ['Raptors'], ['Rockets'], ['Hawks'], ['Cavaliers'], ['Hornets'], ['Pacers'], ['Bucks'], ['Pelicans'], ['Magic'], ['Trail Blazers'], ['Jazz'], ['Spurs'], ['Kings'], ['Thunder'], ['Grizzlies']]\n"
     ]
    },
    {
     "data": {
      "text/plain": [
       "-0.1765716025284462"
      ]
     },
     "execution_count": 3,
     "metadata": {},
     "output_type": "execute_result"
    }
   ],
   "source": [
    "import pandas as pd\n",
    "import numpy as np\n",
    "import scipy.stats as stats\n",
    "import re\n",
    "\n",
    "nba_df=pd.read_csv(\"assets/nba.csv\")\n",
    "cities=pd.read_html(\"assets/wikipedia_data.html\")[1]\n",
    "cities=cities.iloc[:-1,[0,3,5,6,7,8]]\n",
    "\n",
    "def nba_correlation():\n",
    "    # YOUR CODE HERE\n",
    "#     raise NotImplementedError()\n",
    "    \n",
    "#     population_by_region = [] # pass in metropolitan area population from cities\n",
    "#     win_loss_by_region = [] # pass in win/loss ratio from nba_df in the same order as cities[\"Metropolitan area\"]\n",
    "\n",
    "#     assert len(population_by_region) == len(win_loss_by_region), \"Q2: Your lists must be the same length\"\n",
    "#     assert len(population_by_region) == 28, \"Q2: There should be 28 teams being analysed for NBA\"\n",
    "\n",
    "    return correlation(\"NBA\",nba_df)\n",
    "nba_correlation()"
   ]
  },
  {
   "cell_type": "code",
   "execution_count": null,
   "metadata": {
    "deletable": false,
    "editable": false,
    "nbgrader": {
     "checksum": "bbdeb8eb22f525a34c10dc8798324e42",
     "grade": true,
     "grade_id": "cell-e573b2b4a282b470",
     "locked": true,
     "points": 20,
     "schema_version": 1,
     "solution": false
    }
   },
   "outputs": [],
   "source": []
  },
  {
   "cell_type": "markdown",
   "metadata": {
    "deletable": false,
    "editable": false,
    "nbgrader": {
     "checksum": "1a1a5809f675ca033086422007cd73bd",
     "grade": false,
     "grade_id": "cell-96e15e4335df78f4",
     "locked": true,
     "schema_version": 1,
     "solution": false
    }
   },
   "source": [
    "## Question 3\n",
    "For this question, calculate the win/loss ratio's correlation with the population of the city it is in for the **MLB** using **2018** data."
   ]
  },
  {
   "cell_type": "code",
   "execution_count": 4,
   "metadata": {
    "deletable": false,
    "nbgrader": {
     "checksum": "27e8c0da6c9fa0dffc10488314335b6c",
     "grade": false,
     "grade_id": "cell-33b00fc3f3467b0c",
     "locked": false,
     "schema_version": 1,
     "solution": true
    }
   },
   "outputs": [
    {
     "name": "stdout",
     "output_type": "stream",
     "text": [
      "[['Yankees', 'Mets'], ['Dodgers', 'Angels'], ['Giants', 'Athletics'], ['Cubs', 'White Sox'], ['Rangers'], ['Nationals'], ['Phillies'], ['Red Sox'], ['Twins'], ['Rockies'], ['Marlins'], ['Diamondbacks'], ['Tigers'], ['Blue Jays'], ['Astros'], ['Braves'], ['Rays'], ['Pirates'], ['Indians'], ['Mariners'], ['Reds'], ['Royals'], ['Cardinals'], ['Orioles'], ['Brewers'], ['Padres']]\n"
     ]
    },
    {
     "data": {
      "text/plain": [
       "0.1505230448710485"
      ]
     },
     "execution_count": 4,
     "metadata": {},
     "output_type": "execute_result"
    }
   ],
   "source": [
    "import pandas as pd\n",
    "import numpy as np\n",
    "import scipy.stats as stats\n",
    "import re\n",
    "\n",
    "mlb_df=pd.read_csv(\"assets/mlb.csv\")\n",
    "cities=pd.read_html(\"assets/wikipedia_data.html\")[1]\n",
    "cities=cities.iloc[:-1,[0,3,5,6,7,8]]\n",
    "\n",
    "def mlb_correlation(): \n",
    "    # YOUR CODE HERE\n",
    "#     raise NotImplementedError()\n",
    "    \n",
    "#     population_by_region = [] # pass in metropolitan area population from cities\n",
    "#     win_loss_by_region = [] # pass in win/loss ratio from mlb_df in the same order as cities[\"Metropolitan area\"]\n",
    "\n",
    "#     assert len(population_by_region) == len(win_loss_by_region), \"Q3: Your lists must be the same length\"\n",
    "#     assert len(population_by_region) == 26, \"Q3: There should be 26 teams being analysed for MLB\"\n",
    "\n",
    "    return correlation(\"MLB\",mlb_df)\n",
    "mlb_correlation()\n"
   ]
  },
  {
   "cell_type": "code",
   "execution_count": null,
   "metadata": {
    "deletable": false,
    "editable": false,
    "nbgrader": {
     "checksum": "cda33b094ba19ccc37a481e0dd29e0bc",
     "grade": true,
     "grade_id": "cell-764d4476f425c5a2",
     "locked": true,
     "points": 20,
     "schema_version": 1,
     "solution": false
    }
   },
   "outputs": [],
   "source": []
  },
  {
   "cell_type": "markdown",
   "metadata": {
    "deletable": false,
    "editable": false,
    "nbgrader": {
     "checksum": "6977a6da9ed6d8b7a0b7e37bbeda709b",
     "grade": false,
     "grade_id": "cell-793df6c04dfb126e",
     "locked": true,
     "schema_version": 1,
     "solution": false
    }
   },
   "source": [
    "## Question 4\n",
    "For this question, calculate the win/loss ratio's correlation with the population of the city it is in for the **NFL** using **2018** data."
   ]
  },
  {
   "cell_type": "code",
   "execution_count": 13,
   "metadata": {
    "deletable": false,
    "nbgrader": {
     "checksum": "c4914ad1e119278ec2bd567c52640b66",
     "grade": false,
     "grade_id": "cell-8ccebc209aeec8d9",
     "locked": false,
     "schema_version": 1,
     "solution": true
    }
   },
   "outputs": [
    {
     "name": "stdout",
     "output_type": "stream",
     "text": [
      "[['Giants', 'Jets'], ['Rams', 'Chargers'], ['49ers', 'Raiders'], ['Bears'], ['Cowboys'], ['Redskins'], ['Eagles'], ['Patriots'], ['Vikings'], ['Broncos'], ['Dolphins'], ['Cardinals'], ['Lions'], ['Texans'], ['Falcons'], ['Buccaneers'], ['Steelers'], ['Browns'], ['Seahawks'], ['Bengals'], ['Chiefs'], ['Ravens'], ['Panthers'], ['Colts'], ['Titans'], ['Saints'], ['Bills'], ['Jaguars'], ['Packers']]\n",
      "29\n"
     ]
    },
    {
     "data": {
      "text/plain": [
       "0.004922112149349386"
      ]
     },
     "execution_count": 13,
     "metadata": {},
     "output_type": "execute_result"
    }
   ],
   "source": [
    "import pandas as pd\n",
    "import numpy as np\n",
    "import scipy.stats as stats\n",
    "import re\n",
    "\n",
    "nfl_df=pd.read_csv(\"assets/nfl.csv\")\n",
    "cities=pd.read_html(\"assets/wikipedia_data.html\")[1]\n",
    "cities=cities.iloc[:-1,[0,3,5,6,7,8]]\n",
    "\n",
    "def nfl_correlation(): \n",
    "    # YOUR CODE HERE\n",
    "#     raise NotImplementedError()\n",
    "    \n",
    "#     population_by_region = [] # pass in metropolitan area population from cities\n",
    "#     win_loss_by_region = [] # pass in win/loss ratio from nfl_df in the same order as cities[\"Metropolitan area\"]\n",
    "\n",
    "#     assert len(population_by_region) == len(win_loss_by_region), \"Q4: Your lists must be the same length\"\n",
    "#     assert len(population_by_region) == 29, \"Q4: There should be 29 teams being analysed for NFL\"\n",
    "    population_by_region = []\n",
    "    win_loss_by_region = []\n",
    "    all_team_one_region=[]\n",
    "    win_lose=[]\n",
    "    name=\"NFL\"\n",
    "    nhl_df=nfl_df\n",
    "    for i in range(len(cities)):\n",
    "        if cities[name][i][0]!=\"—\" and cities[name][i][0]!=\"[\" and cities[name][i]!=\"— \":\n",
    "            temp=[]\n",
    "            split_data=[0]\n",
    "            data=cities[name][i]\n",
    "            for j in range(len(data)):\n",
    "                if data[j]==\"[\":\n",
    "                    split_data.append(j)\n",
    "                    break;\n",
    "                if j==len(data)-1:\n",
    "                       split_data.append(j+1)\n",
    "                if j!=0 and data[j].isupper() and data[j-1].islower():\n",
    "                       split_data.append(j)\n",
    "            for k in range(len(split_data)-1):\n",
    "                   \n",
    "                temp.append(data[split_data[k]:split_data[k+1]])\n",
    "            all_team_one_region.append((temp))\n",
    "            population_by_region.append(int(cities[\"Population (2016 est.)[8]\"][i])) \n",
    "   \n",
    "    nhl_df_2018=nhl_df[nhl_df[\"year\"]==2018]\n",
    "    print(all_team_one_region)\n",
    "   \n",
    "    \n",
    "    for i in range(len(all_team_one_region)):\n",
    "        win=0\n",
    "        lose=0\n",
    "        at=0\n",
    "        for j in range (len(all_team_one_region[i])):\n",
    "            for k in range(len(nhl_df_2018)):\n",
    "                if search(all_team_one_region[i][j],  nhl_df[\"team\"][k]):\n",
    "                    at=k\n",
    "                    break\n",
    "            if  (nhl_df_2018[\"W\"][at]).isdigit() and (nhl_df_2018[\"L\"][at]).isdigit():\n",
    "                win+=int(nhl_df_2018[\"W\"][at])\n",
    "                lose+=int(nhl_df_2018[\"L\"][at])\n",
    "        win_lose.append(win)\n",
    "        win_lose.append(lose)\n",
    "    \n",
    "    print(len(population_by_region))\n",
    "            \n",
    "    for i in range(0, len(win_lose), 2):    \n",
    "         win_loss_by_region.append(win_lose[i]/(win_lose[i]+win_lose[i+1]))\n",
    "        \n",
    "    len(  win_loss_by_region)\n",
    "\n",
    "  \n",
    "    stats.pearsonr(population_by_region, win_loss_by_region)\n",
    "    return stats.pearsonr(population_by_region, win_loss_by_region)[0]\n",
    "#     return correlation(\"NFL\",nfl_df)\n",
    "nfl_correlation()"
   ]
  },
  {
   "cell_type": "code",
   "execution_count": null,
   "metadata": {
    "deletable": false,
    "editable": false,
    "nbgrader": {
     "checksum": "e9415d6399aa49e3a1a60813afdefa3b",
     "grade": true,
     "grade_id": "cell-de7b148b9554dbda",
     "locked": true,
     "points": 20,
     "schema_version": 1,
     "solution": false
    }
   },
   "outputs": [],
   "source": []
  },
  {
   "cell_type": "markdown",
   "metadata": {
    "deletable": false,
    "editable": false,
    "nbgrader": {
     "checksum": "b02d5cd3273f561e4ae939bb2a41740c",
     "grade": false,
     "grade_id": "cell-97b49d8639e908c4",
     "locked": true,
     "schema_version": 1,
     "solution": false
    }
   },
   "source": [
    "## Question 5\n",
    "In this question I would like you to explore the hypothesis that **given that an area has two sports teams in different sports, those teams will perform the same within their respective sports**. How I would like to see this explored is with a series of paired t-tests (so use [`ttest_rel`](https://docs.scipy.org/doc/scipy/reference/generated/scipy.stats.ttest_rel.html)) between all pairs of sports. Are there any sports where we can reject the null hypothesis? Again, average values where a sport has multiple teams in one region. Remember, you will only be including, for each sport, cities which have teams engaged in that sport, drop others as appropriate. This question is worth 20% of the grade for this assignment."
   ]
  },
  {
   "cell_type": "code",
   "execution_count": null,
   "metadata": {
    "deletable": false,
    "nbgrader": {
     "checksum": "6d78c961eb66f8d8c81f06d33ae8f393",
     "grade": false,
     "grade_id": "cell-92f25f44b8d1179f",
     "locked": false,
     "schema_version": 1,
     "solution": true
    }
   },
   "outputs": [],
   "source": [
    "import pandas as pd\n",
    "import numpy as np\n",
    "import scipy.stats as stats\n",
    "import re\n",
    "\n",
    "mlb_df=pd.read_csv(\"assets/mlb.csv\")\n",
    "nhl_df=pd.read_csv(\"assets/nhl.csv\")\n",
    "nba_df=pd.read_csv(\"assets/nba.csv\")\n",
    "nfl_df=pd.read_csv(\"assets/nfl.csv\")\n",
    "cities=pd.read_html(\"assets/wikipedia_data.html\")[1]\n",
    "cities=cities.iloc[:-1,[0,3,5,6,7,8]]\n",
    "\n",
    "def sports_team_performance():\n",
    "    # YOUR CODE HERE\n",
    "    raise NotImplementedError()\n",
    "    \n",
    "    # Note: p_values is a full dataframe, so df.loc[\"NFL\",\"NBA\"] should be the same as df.loc[\"NBA\",\"NFL\"] and\n",
    "    # df.loc[\"NFL\",\"NFL\"] should return np.nan\n",
    "    sports = ['NFL', 'NBA', 'NHL', 'MLB']\n",
    "    p_values = pd.DataFrame({k:np.nan for k in sports}, index=sports)\n",
    "    \n",
    "    assert abs(p_values.loc[\"NBA\", \"NHL\"] - 0.02) <= 1e-2, \"The NBA-NHL p-value should be around 0.02\"\n",
    "    assert abs(p_values.loc[\"MLB\", \"NFL\"] - 0.80) <= 1e-2, \"The MLB-NFL p-value should be around 0.80\"\n",
    "    return p_values"
   ]
  },
  {
   "cell_type": "code",
   "execution_count": null,
   "metadata": {
    "deletable": false,
    "editable": false,
    "nbgrader": {
     "checksum": "2a596ab421a45cc01168d10e8fbb8f89",
     "grade": true,
     "grade_id": "cell-fb4b9cb5ff4570a6",
     "locked": true,
     "points": 20,
     "schema_version": 1,
     "solution": false
    }
   },
   "outputs": [],
   "source": []
  }
 ],
 "metadata": {
  "coursera": {
   "schema_names": [
    "mooc_adswpy_1_v2_assignment4"
   ]
  },
  "kernelspec": {
   "display_name": "Python 3",
   "language": "python",
   "name": "python3"
  },
  "language_info": {
   "codemirror_mode": {
    "name": "ipython",
    "version": 3
   },
   "file_extension": ".py",
   "mimetype": "text/x-python",
   "name": "python",
   "nbconvert_exporter": "python",
   "pygments_lexer": "ipython3",
   "version": "3.7.3"
  }
 },
 "nbformat": 4,
 "nbformat_minor": 4
}
